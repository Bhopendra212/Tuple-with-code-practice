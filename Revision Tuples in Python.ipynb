{
 "cells": [
  {
   "cell_type": "code",
   "execution_count": 1,
   "id": "1b23367e-f4be-4fe9-b311-b9243a5a8a13",
   "metadata": {},
   "outputs": [],
   "source": [
    "#creating a tuple"
   ]
  },
  {
   "cell_type": "code",
   "execution_count": 2,
   "id": "1e7ecff2-6a17-4a85-9382-46d71e719c62",
   "metadata": {},
   "outputs": [
    {
     "name": "stdout",
     "output_type": "stream",
     "text": [
      "(1, 2, 3, 4)\n",
      "<class 'tuple'>\n"
     ]
    }
   ],
   "source": [
    "mytuple=(1,2,3,4)\n",
    "print(mytuple)\n",
    "print(type(mytuple))"
   ]
  },
  {
   "cell_type": "code",
   "execution_count": 3,
   "id": "e7506985-5433-43e8-8c92-04647d54c5ef",
   "metadata": {},
   "outputs": [],
   "source": [
    "#mixed data type tuple"
   ]
  },
  {
   "cell_type": "code",
   "execution_count": 4,
   "id": "b15fe3ae-2319-473c-9138-72407c886064",
   "metadata": {},
   "outputs": [
    {
     "name": "stdout",
     "output_type": "stream",
     "text": [
      "(1, 'hello', 3.2, (3+2j))\n",
      "<class 'tuple'>\n"
     ]
    }
   ],
   "source": [
    "tuple=(1,'hello',3.2,3+2j)\n",
    "print(tuple)\n",
    "print(type(tuple))"
   ]
  },
  {
   "cell_type": "code",
   "execution_count": 5,
   "id": "5b7c7542-4aef-4716-8b19-8a9f5b295ece",
   "metadata": {},
   "outputs": [],
   "source": [
    "#empty tuple"
   ]
  },
  {
   "cell_type": "code",
   "execution_count": 6,
   "id": "e6a3ab7b-17b6-483d-bfb2-59c9a3c9010e",
   "metadata": {},
   "outputs": [
    {
     "name": "stdout",
     "output_type": "stream",
     "text": [
      "()\n",
      "<class 'tuple'>\n"
     ]
    }
   ],
   "source": [
    "tuple=()\n",
    "print(tuple)\n",
    "print(type(tuple))"
   ]
  },
  {
   "cell_type": "code",
   "execution_count": 7,
   "id": "d8c007c0-ff1a-4bdc-853b-3cd5957dadd3",
   "metadata": {},
   "outputs": [],
   "source": [
    "#nested tuple"
   ]
  },
  {
   "cell_type": "code",
   "execution_count": 8,
   "id": "810024f8-28b1-4441-bd50-cd3c9992c725",
   "metadata": {},
   "outputs": [
    {
     "name": "stdout",
     "output_type": "stream",
     "text": [
      "('data', [1, 2, 3, 4], (5, 6, 7, 8))\n",
      "<class 'tuple'>\n"
     ]
    }
   ],
   "source": [
    "a=('data',[1,2,3,4],(5,6,7,8))\n",
    "print(a)\n",
    "print(type(a))"
   ]
  },
  {
   "cell_type": "code",
   "execution_count": 9,
   "id": "633e691b-93e4-4e65-a9db-a54f2389206c",
   "metadata": {},
   "outputs": [],
   "source": [
    "#creating a tuple with only one item"
   ]
  },
  {
   "cell_type": "code",
   "execution_count": 12,
   "id": "3a1ba197-aeab-45a6-a702-9fb8015f9ae6",
   "metadata": {},
   "outputs": [
    {
     "name": "stdout",
     "output_type": "stream",
     "text": [
      "hello\n",
      "<class 'str'>\n"
     ]
    }
   ],
   "source": [
    "var1=('hello')\n",
    "print(var1)\n",
    "print(type(var1))"
   ]
  },
  {
   "cell_type": "code",
   "execution_count": 13,
   "id": "8723167d-aba0-4383-8582-7330468e056f",
   "metadata": {},
   "outputs": [
    {
     "name": "stdout",
     "output_type": "stream",
     "text": [
      "('hello',)\n",
      "<class 'tuple'>\n"
     ]
    }
   ],
   "source": [
    "var1=('hello',)\n",
    "print(var1)\n",
    "print(type(var1))"
   ]
  },
  {
   "cell_type": "code",
   "execution_count": 15,
   "id": "5e1c4dad-a671-4512-990c-c8fd3eb1502f",
   "metadata": {},
   "outputs": [
    {
     "name": "stdout",
     "output_type": "stream",
     "text": [
      "(2,)\n",
      "<class 'tuple'>\n"
     ]
    }
   ],
   "source": [
    "var1=(2,)\n",
    "print(var1)\n",
    "print(type(var1))"
   ]
  },
  {
   "cell_type": "code",
   "execution_count": 24,
   "id": "cd3571b1-3a1b-456d-98e1-18bfbffb3a66",
   "metadata": {},
   "outputs": [],
   "source": [
    "#Indexing"
   ]
  },
  {
   "cell_type": "code",
   "execution_count": 25,
   "id": "f4572e8a-e280-442a-af73-e7dafea75884",
   "metadata": {},
   "outputs": [
    {
     "name": "stdout",
     "output_type": "stream",
     "text": [
      "76\n"
     ]
    }
   ],
   "source": [
    "a= (45,46,36,76,23,87,44)\n",
    "print(a[3])"
   ]
  },
  {
   "cell_type": "code",
   "execution_count": 26,
   "id": "fe83bd5b-85d7-4cd0-aa28-490636b0af4d",
   "metadata": {},
   "outputs": [
    {
     "name": "stdout",
     "output_type": "stream",
     "text": [
      "python\n"
     ]
    }
   ],
   "source": [
    "a= (45,46,36,76,23,87,44,'data','python')\n",
    "print(a[8])"
   ]
  },
  {
   "cell_type": "code",
   "execution_count": 27,
   "id": "cf92f2e4-4633-460c-9fc4-1b452a53d09e",
   "metadata": {},
   "outputs": [
    {
     "name": "stdout",
     "output_type": "stream",
     "text": [
      "87\n"
     ]
    }
   ],
   "source": [
    "a= (45,46,36,76,23,87,44)\n",
    "print(a[-2])"
   ]
  },
  {
   "cell_type": "code",
   "execution_count": 28,
   "id": "450ddfb9-01fe-432b-a1ff-0ec22191dd93",
   "metadata": {},
   "outputs": [],
   "source": [
    "#slicing in tuple"
   ]
  },
  {
   "cell_type": "code",
   "execution_count": 29,
   "id": "9d4f3c6a-44d9-4bee-98a5-7205b8066438",
   "metadata": {},
   "outputs": [
    {
     "name": "stdout",
     "output_type": "stream",
     "text": [
      "15\n"
     ]
    }
   ],
   "source": [
    "a=(1,2,3,4,5,6,7,8,9,11,22,33,44,55,66)\n",
    "print(len(a))"
   ]
  },
  {
   "cell_type": "code",
   "execution_count": 30,
   "id": "8ed4759f-b815-451d-b715-9852d474242a",
   "metadata": {},
   "outputs": [
    {
     "name": "stdout",
     "output_type": "stream",
     "text": [
      "(1, 2, 3, 4, 5, 6)\n"
     ]
    }
   ],
   "source": [
    "a=(1,2,3,4,5,6,7,8,9,11,22,33,44,55,66)\n",
    "print(a[0:6])"
   ]
  },
  {
   "cell_type": "code",
   "execution_count": 32,
   "id": "82b5109d-33bd-4ec9-9766-721de3b89bbc",
   "metadata": {},
   "outputs": [
    {
     "name": "stdout",
     "output_type": "stream",
     "text": [
      "(1, 4, 7, 11, 44)\n"
     ]
    }
   ],
   "source": [
    "a=(1,2,3,4,5,6,7,8,9,11,22,33,44,55,66)\n",
    "print(a[0::3])"
   ]
  },
  {
   "cell_type": "code",
   "execution_count": 34,
   "id": "e6944c18-2339-4c42-9f7d-37cf74b2d5d5",
   "metadata": {},
   "outputs": [],
   "source": [
    "#reverse the tuple"
   ]
  },
  {
   "cell_type": "code",
   "execution_count": 33,
   "id": "27d04aff-3d06-49b6-983c-87e11ecf0463",
   "metadata": {},
   "outputs": [
    {
     "name": "stdout",
     "output_type": "stream",
     "text": [
      "(66, 55, 44, 33, 22, 11, 9, 8, 7, 6, 5, 4, 3, 2, 1)\n"
     ]
    }
   ],
   "source": [
    "a=(1,2,3,4,5,6,7,8,9,11,22,33,44,55,66)\n",
    "print(a[::-1])"
   ]
  },
  {
   "cell_type": "code",
   "execution_count": 37,
   "id": "b2899cd4-0726-4210-aec5-ea9f47f1633b",
   "metadata": {},
   "outputs": [],
   "source": [
    "#loop"
   ]
  },
  {
   "cell_type": "code",
   "execution_count": 38,
   "id": "2afbf0ca-3770-48e7-a090-0cdf75db587b",
   "metadata": {},
   "outputs": [
    {
     "name": "stdout",
     "output_type": "stream",
     "text": [
      "a\n",
      "b\n",
      "c\n"
     ]
    }
   ],
   "source": [
    "thistuple=('a','b','c')\n",
    "for x in thistuple:\n",
    "    print(x)"
   ]
  },
  {
   "cell_type": "code",
   "execution_count": 39,
   "id": "5d3a4ef5-41ac-4468-9635-62092720e366",
   "metadata": {},
   "outputs": [],
   "source": [
    "#join two tuple"
   ]
  },
  {
   "cell_type": "code",
   "execution_count": 40,
   "id": "b46bda36-cf7a-4749-9247-4a4227a8011b",
   "metadata": {},
   "outputs": [
    {
     "name": "stdout",
     "output_type": "stream",
     "text": [
      "('a', 'b', 'c', 1, 2, 3)\n"
     ]
    }
   ],
   "source": [
    "tuple1=('a','b','c')\n",
    "tuple2=(1,2,3)\n",
    "tuple3= tuple1 + tuple2\n",
    "print(tuple3)"
   ]
  },
  {
   "cell_type": "code",
   "execution_count": 41,
   "id": "2c35a730-416d-4931-9135-5ca6e1c64d82",
   "metadata": {},
   "outputs": [],
   "source": [
    "# multiply two tuple"
   ]
  },
  {
   "cell_type": "code",
   "execution_count": 42,
   "id": "3df7985c-9a47-4e17-971a-99ba94ad62d4",
   "metadata": {},
   "outputs": [
    {
     "name": "stdout",
     "output_type": "stream",
     "text": [
      "(25, 26, 27, 28, 29, 25, 26, 27, 28, 29, 25, 26, 27, 28, 29)\n"
     ]
    }
   ],
   "source": [
    "tuple1=('a','b','c')\n",
    "b=a*3\n",
    "print(b)"
   ]
  },
  {
   "cell_type": "code",
   "execution_count": null,
   "id": "2bc8a342-dd56-4d51-bd75-183484b13552",
   "metadata": {},
   "outputs": [],
   "source": []
  },
  {
   "cell_type": "code",
   "execution_count": null,
   "id": "ffc3e328-863b-4b20-8708-fbbfa0aeb39a",
   "metadata": {},
   "outputs": [],
   "source": []
  }
 ],
 "metadata": {
  "kernelspec": {
   "display_name": "Python 3 (ipykernel)",
   "language": "python",
   "name": "python3"
  },
  "language_info": {
   "codemirror_mode": {
    "name": "ipython",
    "version": 3
   },
   "file_extension": ".py",
   "mimetype": "text/x-python",
   "name": "python",
   "nbconvert_exporter": "python",
   "pygments_lexer": "ipython3",
   "version": "3.11.5"
  }
 },
 "nbformat": 4,
 "nbformat_minor": 5
}
