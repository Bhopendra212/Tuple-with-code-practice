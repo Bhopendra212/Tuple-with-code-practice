{
 "cells": [
  {
   "cell_type": "code",
   "execution_count": 4,
   "id": "65df390a-cb7f-4e9e-99e3-e70657be8822",
   "metadata": {},
   "outputs": [
    {
     "name": "stdout",
     "output_type": "stream",
     "text": [
      "<class 'tuple'>\n"
     ]
    }
   ],
   "source": [
    "var=()\n",
    "print(type(var))"
   ]
  },
  {
   "cell_type": "code",
   "execution_count": 5,
   "id": "0d2dbe29-7b82-4594-b5f8-fe5b6a43bdee",
   "metadata": {},
   "outputs": [
    {
     "name": "stdout",
     "output_type": "stream",
     "text": [
      "(1, 2, 3, 4, 5)\n"
     ]
    }
   ],
   "source": [
    "var=(1,2,3,4,5)\n",
    "print(var)"
   ]
  },
  {
   "cell_type": "code",
   "execution_count": 6,
   "id": "32686c72-d20a-408a-a52c-9f454d6317f1",
   "metadata": {},
   "outputs": [
    {
     "name": "stdout",
     "output_type": "stream",
     "text": [
      "(1, 2, 3, 4, 5, True, 'Rishi')\n"
     ]
    }
   ],
   "source": [
    "var=(1,2,3,4,5,True,'Rishi')\n",
    "print(var)"
   ]
  },
  {
   "cell_type": "code",
   "execution_count": 9,
   "id": "2a6799d6-1fee-486a-ae2f-07d44cad7ff2",
   "metadata": {},
   "outputs": [
    {
     "name": "stdout",
     "output_type": "stream",
     "text": [
      "(1, 2, 3, 4, 5, True, 'Rishi')\n",
      "<class 'tuple'>\n"
     ]
    }
   ],
   "source": [
    "var=1,2,3,4,5,True,'Rishi'    #if items are more than 1 then by default it is assume by the compiler as tuple\n",
    "print(var)\n",
    "print(type(var))"
   ]
  },
  {
   "cell_type": "code",
   "execution_count": 12,
   "id": "32a9944d-41b3-4786-bcf3-1b000ede3cdd",
   "metadata": {},
   "outputs": [
    {
     "name": "stdout",
     "output_type": "stream",
     "text": [
      "<class 'tuple'>\n"
     ]
    }
   ],
   "source": [
    "var=1,                        #after comma(,) it considers space as the 2nd element, which is why it is a tuple\n",
    "print(type(var))"
   ]
  },
  {
   "cell_type": "code",
   "execution_count": 14,
   "id": "e4a5c1cc-2671-4f2c-ba02-b62ec6ead8a5",
   "metadata": {},
   "outputs": [
    {
     "name": "stdout",
     "output_type": "stream",
     "text": [
      "7\n"
     ]
    }
   ],
   "source": [
    "var=(1,2,3,4,5,True,'Rishi')\n",
    "print(len(var))               #length of the tuple"
   ]
  },
  {
   "cell_type": "code",
   "execution_count": 15,
   "id": "46e68f5a-d2f4-4e2b-95d8-9d209add06e8",
   "metadata": {},
   "outputs": [],
   "source": [
    "# copy value of tuple into another tuple"
   ]
  },
  {
   "cell_type": "code",
   "execution_count": 17,
   "id": "ef73cf56-19e3-4796-9db7-02f3c81886bc",
   "metadata": {},
   "outputs": [
    {
     "name": "stdout",
     "output_type": "stream",
     "text": [
      "(1, 2, 3, 4, 5, True, 'Rishi')\n"
     ]
    }
   ],
   "source": [
    "var=(1,2,3,4,5,True,'Rishi')\n",
    "var2= var\n",
    "print(var2)"
   ]
  },
  {
   "cell_type": "code",
   "execution_count": 21,
   "id": "33b3ca53-724e-467d-a686-d662d6afcb21",
   "metadata": {},
   "outputs": [],
   "source": [
    "#print the index value"
   ]
  },
  {
   "cell_type": "code",
   "execution_count": 19,
   "id": "6eebd57d-b95d-4556-99db-52fc0497712c",
   "metadata": {},
   "outputs": [
    {
     "name": "stdout",
     "output_type": "stream",
     "text": [
      "5\n"
     ]
    }
   ],
   "source": [
    "var=(1,2,3,4,5,True,'Rishi')\n",
    "print(var[4])"
   ]
  },
  {
   "cell_type": "code",
   "execution_count": 20,
   "id": "354fef2f-3876-424d-950c-db8e800fac47",
   "metadata": {},
   "outputs": [],
   "source": [
    "#indexing"
   ]
  },
  {
   "cell_type": "code",
   "execution_count": 22,
   "id": "ed508f93-89f7-4f8e-8e8d-c030f42caefa",
   "metadata": {},
   "outputs": [
    {
     "name": "stdout",
     "output_type": "stream",
     "text": [
      "6\n"
     ]
    }
   ],
   "source": [
    "var=(1,2,3,4,5,True,'Rishi')\n",
    "l=var.index(\"Rishi\")\n",
    "print(l)"
   ]
  },
  {
   "cell_type": "code",
   "execution_count": null,
   "id": "4caa5223-22c8-4e8e-b621-043a41ca8111",
   "metadata": {},
   "outputs": [],
   "source": []
  }
 ],
 "metadata": {
  "kernelspec": {
   "display_name": "Python 3 (ipykernel)",
   "language": "python",
   "name": "python3"
  },
  "language_info": {
   "codemirror_mode": {
    "name": "ipython",
    "version": 3
   },
   "file_extension": ".py",
   "mimetype": "text/x-python",
   "name": "python",
   "nbconvert_exporter": "python",
   "pygments_lexer": "ipython3",
   "version": "3.11.5"
  }
 },
 "nbformat": 4,
 "nbformat_minor": 5
}
